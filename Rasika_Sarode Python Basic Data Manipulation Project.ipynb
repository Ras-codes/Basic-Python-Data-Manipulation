{
 "cells": [
  {
   "cell_type": "markdown",
   "id": "97d6ede8",
   "metadata": {},
   "source": [
    "# BASIC PYTHON DATA MANIPULATION"
   ]
  },
  {
   "cell_type": "markdown",
   "id": "6f4065f5",
   "metadata": {},
   "source": [
    "###  ------------------------------------------------------------------------------------------------------------------------------------------------------------------"
   ]
  },
  {
   "cell_type": "markdown",
   "id": "ca20ada1",
   "metadata": {},
   "source": [
    "## String Indexing"
   ]
  },
  {
   "cell_type": "markdown",
   "id": "49061155",
   "metadata": {},
   "source": [
    "#### Q1. How to access first character of a given string?"
   ]
  },
  {
   "cell_type": "code",
   "execution_count": 141,
   "id": "276ed45c",
   "metadata": {},
   "outputs": [
    {
     "name": "stdout",
     "output_type": "stream",
     "text": [
      "First character of the given string is:  J\n"
     ]
    }
   ],
   "source": [
    "given_string = \"John\"\n",
    "print(\"First character of the given string is: \", given_string[0])"
   ]
  },
  {
   "cell_type": "markdown",
   "id": "984e1f7b",
   "metadata": {},
   "source": [
    "#### Q2. How to access a character at user expected index from user given string?"
   ]
  },
  {
   "cell_type": "code",
   "execution_count": 144,
   "id": "df973e9e",
   "metadata": {},
   "outputs": [
    {
     "name": "stdout",
     "output_type": "stream",
     "text": [
      "Enter a string: Samantha\n",
      "Enter the index to check character at: 5\n",
      "Character at the expected index is:  t\n"
     ]
    }
   ],
   "source": [
    "user_string = input(\"Enter a string: \")\n",
    "index = int(input(\"Enter the index to check character at: \"))\n",
    "character = user_string[index]\n",
    "print(\"Character at the expected index is: \", character)"
   ]
  },
  {
   "cell_type": "markdown",
   "id": "4d5e4722",
   "metadata": {},
   "source": [
    "#### Q3. How to access specific set of characters from a given string?"
   ]
  },
  {
   "cell_type": "code",
   "execution_count": 150,
   "id": "af34b84d",
   "metadata": {},
   "outputs": [
    {
     "name": "stdout",
     "output_type": "stream",
     "text": [
      "Set of characters from the given string is:  John\n"
     ]
    }
   ],
   "source": [
    "given_string = \"John Doe\"\n",
    "print(\"Set of characters from the given string is: \", given_string[0:4])"
   ]
  },
  {
   "cell_type": "markdown",
   "id": "3ffd9bdf",
   "metadata": {},
   "source": [
    "#### Q4. How to reverse a given string?"
   ]
  },
  {
   "cell_type": "code",
   "execution_count": 148,
   "id": "0c2b7e70",
   "metadata": {},
   "outputs": [
    {
     "name": "stdout",
     "output_type": "stream",
     "text": [
      "Set of characters from the given string is:  eoD nhoJ\n"
     ]
    }
   ],
   "source": [
    "given_string = \"John Doe\"\n",
    "print(\"Set of characters from the given string is: \", given_string[-1:-9:-1])"
   ]
  },
  {
   "cell_type": "markdown",
   "id": "4b80afd2",
   "metadata": {},
   "source": [
    "#### Q5. How to check if a specific character exists in a given string?"
   ]
  },
  {
   "cell_type": "code",
   "execution_count": 151,
   "id": "3bedda57",
   "metadata": {},
   "outputs": [
    {
     "name": "stdout",
     "output_type": "stream",
     "text": [
      "character n - exists in the given string: John Doe\n"
     ]
    }
   ],
   "source": [
    "given_string = \"John Doe\"\n",
    "character = \"n\"\n",
    "for i in range(len(given_string)):\n",
    "    if character == given_string[i]:\n",
    "        print(\"character\", character, \"- exists in the given string:\", given_string)\n",
    "        break"
   ]
  },
  {
   "cell_type": "markdown",
   "id": "d19d6290",
   "metadata": {},
   "source": [
    "###  ------------------------------------------------------------------------------------------------------------------------------------------------------------------"
   ]
  },
  {
   "cell_type": "markdown",
   "id": "c4b3016f",
   "metadata": {},
   "source": [
    "## List Operations"
   ]
  },
  {
   "cell_type": "markdown",
   "id": "b2ddde26",
   "metadata": {},
   "source": [
    "#### Q6. How to add multiple elements to the end of a given list?"
   ]
  },
  {
   "cell_type": "code",
   "execution_count": 28,
   "id": "26627e53",
   "metadata": {},
   "outputs": [
    {
     "name": "stdout",
     "output_type": "stream",
     "text": [
      "The new list with added elements is:  [1, 2, 3, 4, 5, 6, 7, 8]\n"
     ]
    }
   ],
   "source": [
    "given_list = [1,2,3,4,5]\n",
    "given_list.extend([6,7,8])\n",
    "print(\"The new list with added elements is: \", given_list)"
   ]
  },
  {
   "cell_type": "markdown",
   "id": "fc8903ed",
   "metadata": {},
   "source": [
    "#### Q7. How to reverse the order of elements in a given list?"
   ]
  },
  {
   "cell_type": "code",
   "execution_count": 24,
   "id": "67929b17",
   "metadata": {},
   "outputs": [
    {
     "name": "stdout",
     "output_type": "stream",
     "text": [
      "The reversed list is:  [5, 4, 3, 2, 1]\n"
     ]
    }
   ],
   "source": [
    "given_list = [1,2,3,4,5]\n",
    "given_list.reverse()\n",
    "print(\"The reversed list is: \", given_list)"
   ]
  },
  {
   "cell_type": "markdown",
   "id": "1f4cc2af",
   "metadata": {},
   "source": [
    "#### Q8. How to remove last element from a given list?"
   ]
  },
  {
   "cell_type": "code",
   "execution_count": 154,
   "id": "61afb4bf",
   "metadata": {},
   "outputs": [
    {
     "name": "stdout",
     "output_type": "stream",
     "text": [
      "[1, 2, 3, 4]\n"
     ]
    }
   ],
   "source": [
    "given_list = [1,2,3,4,5]\n",
    "given_list.pop()\n",
    "print(given_list)"
   ]
  },
  {
   "cell_type": "markdown",
   "id": "ecc4dc48",
   "metadata": {},
   "source": [
    "#### Q9. How to count number of female and male entries in the given gender list?"
   ]
  },
  {
   "cell_type": "code",
   "execution_count": 152,
   "id": "2336b914",
   "metadata": {},
   "outputs": [
    {
     "name": "stdout",
     "output_type": "stream",
     "text": [
      "Total number of females are:  60\n",
      "Total number of males are:  45\n"
     ]
    }
   ],
   "source": [
    "gender = ['Female','Male','F','M','female','male','Female','Female','Male','F','M','female','male','Female','Female','Male','F',\n",
    "          'M','female','male','Female','Female','Male','F','M','female','male','Female','Female','Male','F','M','female','male',\n",
    "          'Female','Female','Male','F','M','female','male','Female','Female','Male','F','M','female','male','Female','Female',\n",
    "          'Male','F','M','female','male','Female','Female','Male','F','M','female','male','Female','Female','Male','F','M',\n",
    "          'female','male','Female','Female','Male','F','M','female','male','Female','Female','Male','F','M','female','male',\n",
    "          'Female','Female','Male','F','M','female','male','Female','Female','Male','F','M','female','male','Female','Female',\n",
    "          'Male','F','M','female','male','Female']\n",
    "\n",
    "cf = 0\n",
    "cm = 0\n",
    "for i in gender:\n",
    "    if i.startswith('F') or i.startswith('f'):\n",
    "        cf = cf + 1\n",
    "    else:\n",
    "        cm = cm + 1\n",
    "        \n",
    "print(\"Total number of females are: \",cf)\n",
    "print(\"Total number of males are: \",cm) "
   ]
  },
  {
   "cell_type": "markdown",
   "id": "292e8d0c",
   "metadata": {},
   "source": [
    "#### Q10. How to remove duplicates from a given string?"
   ]
  },
  {
   "cell_type": "code",
   "execution_count": 33,
   "id": "d301d69b",
   "metadata": {},
   "outputs": [
    {
     "name": "stdout",
     "output_type": "stream",
     "text": [
      "['c', 'o', 'n', 'f', 'e', 'r']\n"
     ]
    },
    {
     "data": {
      "text/plain": [
       "'confer'"
      ]
     },
     "execution_count": 33,
     "metadata": {},
     "output_type": "execute_result"
    }
   ],
   "source": [
    "given_string = \"Conference\"\n",
    "result = []\n",
    "final = ''\n",
    "for i in given_string:\n",
    "    if i not in result:\n",
    "        result.append(i.lower())\n",
    "        \n",
    "print(result)\n",
    "final.join(result)\n",
    "\n",
    "    "
   ]
  },
  {
   "cell_type": "markdown",
   "id": "657f3d8f",
   "metadata": {},
   "source": [
    "### ------------------------------------------------------------------------------------------------------------------------------------------------------------------"
   ]
  },
  {
   "cell_type": "markdown",
   "id": "eeab5f3d",
   "metadata": {},
   "source": [
    "## Lambda Functions"
   ]
  },
  {
   "cell_type": "markdown",
   "id": "b7f48f1f",
   "metadata": {},
   "source": [
    "#### Q11. How to multiply each value of the given list by 20?"
   ]
  },
  {
   "cell_type": "code",
   "execution_count": 43,
   "id": "4729c847",
   "metadata": {},
   "outputs": [
    {
     "data": {
      "text/plain": [
       "[200, 400, 600, 800, 1000]"
      ]
     },
     "execution_count": 43,
     "metadata": {},
     "output_type": "execute_result"
    }
   ],
   "source": [
    "given_list = [10,20,30,40,50]\n",
    "list(map(lambda i:i*20,given_list))"
   ]
  },
  {
   "cell_type": "markdown",
   "id": "ab1b891b",
   "metadata": {},
   "source": [
    "#### Q12. How to get the floor value of each of the value in the given list?"
   ]
  },
  {
   "cell_type": "code",
   "execution_count": 49,
   "id": "2a3ce87f",
   "metadata": {},
   "outputs": [
    {
     "data": {
      "text/plain": [
       "[23, 34, 60, 27, 14, 9, 15]"
      ]
     },
     "execution_count": 49,
     "metadata": {},
     "output_type": "execute_result"
    }
   ],
   "source": [
    "import math\n",
    "\n",
    "given_list = [23.456,34.987,60.2826,27.2727,14.3898,9.2272,15.878937] \n",
    "floor_values = list(map(lambda x: math.floor(x), given_list))\n",
    "floor_values"
   ]
  },
  {
   "cell_type": "markdown",
   "id": "aecc84ec",
   "metadata": {},
   "source": [
    "#### Q13. How to get even values which are greater than 50 from the given list using lambda function?"
   ]
  },
  {
   "cell_type": "code",
   "execution_count": 44,
   "id": "24458569",
   "metadata": {},
   "outputs": [
    {
     "data": {
      "text/plain": [
       "[66, 96, 60, 72, 84]"
      ]
     },
     "execution_count": 44,
     "metadata": {},
     "output_type": "execute_result"
    }
   ],
   "source": [
    "given_list = [12,35,66,9,96,25,39,33,45,48,60,72,77,84,91,3,21]\n",
    "list(filter(lambda l:l%2==0 and l>50,given_list))"
   ]
  },
  {
   "cell_type": "markdown",
   "id": "0207a793",
   "metadata": {},
   "source": [
    "#### Q14. How to display the names whose length is greater than 5 from the given list using lambda?"
   ]
  },
  {
   "cell_type": "code",
   "execution_count": 50,
   "id": "a4f3c01c",
   "metadata": {},
   "outputs": [
    {
     "data": {
      "text/plain": [
       "['Orange', 'Strawberry', 'Grapes']"
      ]
     },
     "execution_count": 50,
     "metadata": {},
     "output_type": "execute_result"
    }
   ],
   "source": [
    "given_list = ['Orange','Kiwi','Apple','Strawberry','Grapes','Mango']\n",
    "list(filter(lambda i: len(i)>5,given_list)) "
   ]
  },
  {
   "cell_type": "markdown",
   "id": "c5fd4480",
   "metadata": {},
   "source": [
    "#### Q15. How to convert strings in the given list to uppercase?"
   ]
  },
  {
   "cell_type": "code",
   "execution_count": 52,
   "id": "e08606eb",
   "metadata": {},
   "outputs": [
    {
     "data": {
      "text/plain": [
       "['HELLO', 'GOOD', 'MORNING', 'EVERYONE']"
      ]
     },
     "execution_count": 52,
     "metadata": {},
     "output_type": "execute_result"
    }
   ],
   "source": [
    "given_list = ['hello', 'good', 'morning', 'everyone']\n",
    "list(map(lambda x: x.upper(), given_list))"
   ]
  },
  {
   "cell_type": "markdown",
   "id": "c512ed3c",
   "metadata": {},
   "source": [
    "### ------------------------------------------------------------------------------------------------------------------------------------------------------------------"
   ]
  },
  {
   "cell_type": "markdown",
   "id": "b30ab0af",
   "metadata": {},
   "source": [
    "## List Comprehension"
   ]
  },
  {
   "cell_type": "markdown",
   "id": "1de21067",
   "metadata": {},
   "source": [
    "#### Q16. If the length of name is odd,then store the names in Uppercase and if the length of name is even, then store the names in Lowercase"
   ]
  },
  {
   "cell_type": "code",
   "execution_count": 54,
   "id": "9ae5aec0",
   "metadata": {},
   "outputs": [
    {
     "name": "stdout",
     "output_type": "stream",
     "text": [
      "['orange', 'kiwi', 'APPLE', 'strawberry', 'grapes', 'MANGO']\n"
     ]
    }
   ],
   "source": [
    "given_list = ['Orange','Kiwi','Apple','Strawberry','Grapes','Mango']\n",
    "n = [name.upper() if len(name) %2!=0 else name.lower() for name in given_list]\n",
    "print(n)"
   ]
  },
  {
   "cell_type": "markdown",
   "id": "f25d8c51",
   "metadata": {},
   "source": [
    "#### Q17. Generate squares of numbers from 1 to 10"
   ]
  },
  {
   "cell_type": "code",
   "execution_count": 55,
   "id": "5960e5e3",
   "metadata": {},
   "outputs": [
    {
     "name": "stdout",
     "output_type": "stream",
     "text": [
      "[1, 4, 9, 16, 25, 36, 49, 64, 81, 100]\n"
     ]
    }
   ],
   "source": [
    "squares = [num ** 2 for num in range(1, 11)]\n",
    "print(squares)"
   ]
  },
  {
   "cell_type": "markdown",
   "id": "995ea827",
   "metadata": {},
   "source": [
    "#### Q18. How to get a new list containing the lengths of each string in the given list?"
   ]
  },
  {
   "cell_type": "code",
   "execution_count": 56,
   "id": "579acf16",
   "metadata": {},
   "outputs": [
    {
     "name": "stdout",
     "output_type": "stream",
     "text": [
      "[5, 4, 7, 8]\n"
     ]
    }
   ],
   "source": [
    "given_list = ['hello', 'good', 'morning', 'everyone']\n",
    "new_list = [len(string) for string in given_list]\n",
    "print(new_list) "
   ]
  },
  {
   "cell_type": "markdown",
   "id": "a31ea1a8",
   "metadata": {},
   "source": [
    "#### Q19. How to get a new list containing only the positive numbers from the given list?"
   ]
  },
  {
   "cell_type": "code",
   "execution_count": 58,
   "id": "427ce155",
   "metadata": {},
   "outputs": [
    {
     "name": "stdout",
     "output_type": "stream",
     "text": [
      "[5, 10, 2, 4, 9, 1]\n"
     ]
    }
   ],
   "source": [
    "given_list = [-3, -2, 5, -4, -6, -1, 10, -8, 2, 4, 9, -7, 1, 0]\n",
    "positive_numbers_list = [num for num in given_list if num > 0]\n",
    "print(positive_numbers_list)"
   ]
  },
  {
   "cell_type": "markdown",
   "id": "6804fe12",
   "metadata": {},
   "source": [
    "#### Q20. How to get a new list with only the unique elements from the given list?"
   ]
  },
  {
   "cell_type": "code",
   "execution_count": 60,
   "id": "21a3b378",
   "metadata": {},
   "outputs": [
    {
     "name": "stdout",
     "output_type": "stream",
     "text": [
      "[1, 2, 3, 4, 5]\n"
     ]
    }
   ],
   "source": [
    "given_list = [1, 2, 2, 3, 3, 4, 5, 5]\n",
    "unique_numbers_list = list(set(given_list))\n",
    "print(unique_numbers_list)"
   ]
  },
  {
   "cell_type": "markdown",
   "id": "f29c78a7",
   "metadata": {},
   "source": [
    "### ------------------------------------------------------------------------------------------------------------------------------------------------------------------"
   ]
  },
  {
   "cell_type": "markdown",
   "id": "06d39b72",
   "metadata": {},
   "source": [
    "## Dictionaries"
   ]
  },
  {
   "cell_type": "markdown",
   "id": "04fafd0f",
   "metadata": {},
   "source": [
    "#### Q21. How to access the value at age in the given persons information dictionary?"
   ]
  },
  {
   "cell_type": "code",
   "execution_count": 62,
   "id": "b2374a37",
   "metadata": {},
   "outputs": [
    {
     "name": "stdout",
     "output_type": "stream",
     "text": [
      "32\n"
     ]
    }
   ],
   "source": [
    "person_info = {'name': 'John', 'age': 32, 'gender': 'Male'}\n",
    "age = person_info['age']\n",
    "print(age) "
   ]
  },
  {
   "cell_type": "markdown",
   "id": "fbad5dac",
   "metadata": {},
   "source": [
    "#### Q22. How to add a new city and its population to the existing dictionary?"
   ]
  },
  {
   "cell_type": "code",
   "execution_count": 71,
   "id": "de0e0223",
   "metadata": {},
   "outputs": [
    {
     "name": "stdout",
     "output_type": "stream",
     "text": [
      "{'New York': 8537673, 'Los Angeles': 3979576, 'Chicago': 2705994, 'Houston': 2320268}\n"
     ]
    }
   ],
   "source": [
    "city_population = {'New York': 8537673, 'Los Angeles': 3979576, 'Chicago': 2705994}\n",
    "city_population['Houston'] = 2320268\n",
    "print(city_population)"
   ]
  },
  {
   "cell_type": "markdown",
   "id": "16a8c2ce",
   "metadata": {},
   "source": [
    "#### Q23. How to remove a city from the dictionary?"
   ]
  },
  {
   "cell_type": "code",
   "execution_count": 72,
   "id": "6751037c",
   "metadata": {},
   "outputs": [
    {
     "name": "stdout",
     "output_type": "stream",
     "text": [
      "{'New York': 8537673, 'Los Angeles': 3979576}\n"
     ]
    }
   ],
   "source": [
    "city_population = {'New York': 8537673, 'Los Angeles': 3979576, 'Chicago': 2705994}\n",
    "del city_population['Chicago']\n",
    "print(city_population)"
   ]
  },
  {
   "cell_type": "markdown",
   "id": "f1f91844",
   "metadata": {},
   "source": [
    "#### Q24. How to check if a key exists in a dictionary?"
   ]
  },
  {
   "cell_type": "code",
   "execution_count": 70,
   "id": "47fd0ded",
   "metadata": {},
   "outputs": [
    {
     "name": "stdout",
     "output_type": "stream",
     "text": [
      "Banana is present in the dictionary.\n"
     ]
    }
   ],
   "source": [
    "fruit_counts = {'apple': 10, 'banana': 5, 'orange': 8}\n",
    "if 'banana' in fruit_counts:\n",
    "    print(\"Banana is present in the dictionary.\")\n",
    "else:\n",
    "    print(\"Banana is not present in the dictionary.\")"
   ]
  },
  {
   "cell_type": "markdown",
   "id": "e0c21dbc",
   "metadata": {},
   "source": [
    "#### Q25. How to convert 1 dictionary into 2 lists?"
   ]
  },
  {
   "cell_type": "code",
   "execution_count": 66,
   "id": "f7aa92e3",
   "metadata": {},
   "outputs": [
    {
     "name": "stdout",
     "output_type": "stream",
     "text": [
      "['A', 'B', 'C', 'D', 'E']\n",
      "[34000, 28000, 25000, 35000, 33000]\n"
     ]
    }
   ],
   "source": [
    "emp_info = {'A': 34000, 'B': 28000, 'C': 25000, 'D': 35000, 'E': 33000}\n",
    "employee = list(emp_info.keys())\n",
    "salaries = list(emp_info.values())\n",
    "print(employee)\n",
    "print(salaries)"
   ]
  },
  {
   "cell_type": "markdown",
   "id": "3c8e2b26",
   "metadata": {},
   "source": [
    "### ------------------------------------------------------------------------------------------------------------------------------------------------------------------"
   ]
  },
  {
   "cell_type": "markdown",
   "id": "0bd69a84",
   "metadata": {},
   "source": [
    "## Built-in Functions ( len, max, sum, sorted, abs )"
   ]
  },
  {
   "cell_type": "markdown",
   "id": "1956d85c",
   "metadata": {},
   "source": [
    "#### Q26. How to get the length of a given string?"
   ]
  },
  {
   "cell_type": "code",
   "execution_count": 73,
   "id": "b3fe3cf4",
   "metadata": {},
   "outputs": [
    {
     "name": "stdout",
     "output_type": "stream",
     "text": [
      "12\n"
     ]
    }
   ],
   "source": [
    "given_string = \"Good morning\"\n",
    "print(len(given_string))"
   ]
  },
  {
   "cell_type": "markdown",
   "id": "c6b7def2",
   "metadata": {},
   "source": [
    "#### Q27. How to get the maximum value in a list of numbers?"
   ]
  },
  {
   "cell_type": "code",
   "execution_count": 76,
   "id": "edaf507c",
   "metadata": {},
   "outputs": [
    {
     "name": "stdout",
     "output_type": "stream",
     "text": [
      "45\n"
     ]
    }
   ],
   "source": [
    "numbers_list = [10, 5, 8, 20, 15, 2, 32, 9, 45, 1]\n",
    "print(max(numbers_list))"
   ]
  },
  {
   "cell_type": "markdown",
   "id": "21d48dc4",
   "metadata": {},
   "source": [
    "#### Q28. How to get the sum all elements in a list of numbers?"
   ]
  },
  {
   "cell_type": "code",
   "execution_count": 78,
   "id": "d240331b",
   "metadata": {},
   "outputs": [
    {
     "name": "stdout",
     "output_type": "stream",
     "text": [
      "55\n"
     ]
    }
   ],
   "source": [
    "numbers_list = [1, 2, 3, 4, 5, 6, 7, 8, 9, 10]\n",
    "print(sum(numbers_list))"
   ]
  },
  {
   "cell_type": "markdown",
   "id": "427a8be6",
   "metadata": {},
   "source": [
    "#### Q29. How to sort a given list of strings in alphabetical order?"
   ]
  },
  {
   "cell_type": "code",
   "execution_count": 79,
   "id": "9335a3b7",
   "metadata": {},
   "outputs": [
    {
     "name": "stdout",
     "output_type": "stream",
     "text": [
      "['apple', 'banana', 'grapes', 'orange', 'strawberry']\n"
     ]
    }
   ],
   "source": [
    "fruits = [\"orange\", \"apple\", \"strawberry\", \"banana\", \"grapes\"]\n",
    "sorted_words = sorted(fruits)\n",
    "print(sorted_words)"
   ]
  },
  {
   "cell_type": "markdown",
   "id": "ccfbcc2e",
   "metadata": {},
   "source": [
    "#### Q30. What is the absolute value of a negative number?"
   ]
  },
  {
   "cell_type": "code",
   "execution_count": 80,
   "id": "2626846d",
   "metadata": {},
   "outputs": [
    {
     "name": "stdout",
     "output_type": "stream",
     "text": [
      "20\n"
     ]
    }
   ],
   "source": [
    "num = -20\n",
    "print(abs(num))"
   ]
  },
  {
   "cell_type": "markdown",
   "id": "1d9bfdcd",
   "metadata": {},
   "source": [
    "### ------------------------------------------------------------------------------------------------------------------------------------------------------------------"
   ]
  },
  {
   "cell_type": "markdown",
   "id": "245c7b1e",
   "metadata": {},
   "source": [
    "## Looping"
   ]
  },
  {
   "cell_type": "markdown",
   "id": "98233106",
   "metadata": {},
   "source": [
    "#### Q31. Print the numbers in given list using for loop"
   ]
  },
  {
   "cell_type": "code",
   "execution_count": 86,
   "id": "c77efc42",
   "metadata": {},
   "outputs": [
    {
     "name": "stdout",
     "output_type": "stream",
     "text": [
      "1\n",
      "2\n",
      "3\n",
      "4\n",
      "5\n"
     ]
    }
   ],
   "source": [
    "numbers = [1, 2, 3, 4, 5]\n",
    "for num in numbers:\n",
    "    print(num)"
   ]
  },
  {
   "cell_type": "markdown",
   "id": "9ef1d0a6",
   "metadata": {},
   "source": [
    "#### Q32. Print numbers 0-5 but break at 3"
   ]
  },
  {
   "cell_type": "code",
   "execution_count": 88,
   "id": "84ed14d4",
   "metadata": {},
   "outputs": [
    {
     "name": "stdout",
     "output_type": "stream",
     "text": [
      "0\n",
      "1\n",
      "2\n"
     ]
    }
   ],
   "source": [
    "for i in range(5):\n",
    "    if i == 3:\n",
    "        break\n",
    "    print(i)"
   ]
  },
  {
   "cell_type": "markdown",
   "id": "c71bfd37",
   "metadata": {},
   "source": [
    "#### Q33. Print 0-5 numbers using while loop"
   ]
  },
  {
   "cell_type": "code",
   "execution_count": 89,
   "id": "dea87b25",
   "metadata": {},
   "outputs": [
    {
     "name": "stdout",
     "output_type": "stream",
     "text": [
      "0\n",
      "1\n",
      "2\n",
      "3\n",
      "4\n",
      "5\n"
     ]
    }
   ],
   "source": [
    "i = 0\n",
    "while i <= 5:\n",
    "    print(i)\n",
    "    i += 1"
   ]
  },
  {
   "cell_type": "markdown",
   "id": "4f6745a3",
   "metadata": {},
   "source": [
    "#### Q34. Floyd's triangle using for loop"
   ]
  },
  {
   "cell_type": "code",
   "execution_count": 82,
   "id": "e95c101b",
   "metadata": {},
   "outputs": [
    {
     "name": "stdout",
     "output_type": "stream",
     "text": [
      "\n",
      "1 \n",
      "2 3 \n",
      "4 5 6 \n",
      "7 8 9 10 \n"
     ]
    }
   ],
   "source": [
    "num = 1\n",
    "for i in range(0,5):\n",
    "    for j in range(1, i+1):\n",
    "        print(num,end = ' ')\n",
    "        num += 1\n",
    "    print()"
   ]
  },
  {
   "cell_type": "markdown",
   "id": "05ffe28e",
   "metadata": {},
   "source": [
    "#### Q35. Factorial using while loop"
   ]
  },
  {
   "cell_type": "code",
   "execution_count": 93,
   "id": "99cc247e",
   "metadata": {},
   "outputs": [
    {
     "name": "stdout",
     "output_type": "stream",
     "text": [
      "Factorial is: 24\n"
     ]
    }
   ],
   "source": [
    "num = 4\n",
    "factorial = 1\n",
    "while num > 0:\n",
    "    factorial *= num\n",
    "    num -= 1\n",
    "print(\"Factorial is:\", factorial)"
   ]
  },
  {
   "cell_type": "markdown",
   "id": "2a5fdfc0",
   "metadata": {},
   "source": [
    "### ------------------------------------------------------------------------------------------------------------------------------------------------------------------"
   ]
  },
  {
   "cell_type": "markdown",
   "id": "e25550f5",
   "metadata": {},
   "source": [
    "## Inheritance"
   ]
  },
  {
   "cell_type": "markdown",
   "id": "aeb3df49",
   "metadata": {},
   "source": [
    "#### Q36.  Give example of Single inheritance"
   ]
  },
  {
   "cell_type": "code",
   "execution_count": 94,
   "id": "fd29f5e8",
   "metadata": {},
   "outputs": [
    {
     "name": "stdout",
     "output_type": "stream",
     "text": [
      "Black car with LED headlights.\n"
     ]
    }
   ],
   "source": [
    "class Car:\n",
    "    color = 'Black'\n",
    "    head = 'LED'\n",
    "    def display_features(self):\n",
    "        print(f\"{self.color} car with {self.head} headlights.\")\n",
    "        \n",
    "class Kia(Car):\n",
    "    def kia_features(self):\n",
    "        print(\"Kia has advanced features.\")\n",
    "        \n",
    "obj1 = Kia()\n",
    "obj1.display_features()"
   ]
  },
  {
   "cell_type": "markdown",
   "id": "028ca038",
   "metadata": {},
   "source": [
    "#### Q37.  Give example of Multilevel Inheritance"
   ]
  },
  {
   "cell_type": "code",
   "execution_count": 95,
   "id": "d11a10e2",
   "metadata": {},
   "outputs": [
    {
     "data": {
      "text/plain": [
       "'India'"
      ]
     },
     "execution_count": 95,
     "metadata": {},
     "output_type": "execute_result"
    }
   ],
   "source": [
    "class Country:\n",
    "    def task1(self):\n",
    "        return \"India\"\n",
    "\n",
    "class State(Country):\n",
    "    def task2(self):\n",
    "        return \"Uttar Pradesh\"\n",
    "    \n",
    "class City(State):\n",
    "    def task3(self):\n",
    "        return \"Noida\"\n",
    "    \n",
    "s1 = City()\n",
    "s1.task1()"
   ]
  },
  {
   "cell_type": "markdown",
   "id": "39e4c839",
   "metadata": {},
   "source": [
    "#### Q38. Give example of Multiple Inheritance"
   ]
  },
  {
   "cell_type": "code",
   "execution_count": 96,
   "id": "42764afd",
   "metadata": {},
   "outputs": [
    {
     "name": "stdout",
     "output_type": "stream",
     "text": [
      "Merger of OBC and Unity bank.\n"
     ]
    }
   ],
   "source": [
    "class OBC:\n",
    "    def branch(self):\n",
    "        print(\"Patel Nagar Branch\")\n",
    "\n",
    "class Unity_Bank:\n",
    "    def branch(self):\n",
    "        print(\"Nehru Nagar Branch\")\n",
    "        \n",
    "class PNB(OBC,Unity_Bank):\n",
    "    def branch(self):\n",
    "        print(\"Merger of OBC and Unity bank.\")\n",
    "        \n",
    "ol = PNB()\n",
    "ol.branch()"
   ]
  },
  {
   "cell_type": "markdown",
   "id": "880f14a0",
   "metadata": {},
   "source": [
    "#### Q39. Give example of Hybrid Inheritance"
   ]
  },
  {
   "cell_type": "code",
   "execution_count": 106,
   "id": "60a324bc",
   "metadata": {},
   "outputs": [
    {
     "name": "stdout",
     "output_type": "stream",
     "text": [
      "Make: Ducati, Model: Panigale V4, Year: 2023, Engine type: Testastretta\n"
     ]
    }
   ],
   "source": [
    "class Vehicle:\n",
    "    def __init__(self, make, model, year):\n",
    "        self.make = make\n",
    "        self.model = model\n",
    "        self.year = year\n",
    "    def display_info(self):\n",
    "        print(f\"Make: {self.make}, Model: {self.model}, Year: {self.year}\")\n",
    "\n",
    "class ElectricVehicle:\n",
    "    def __init__(self, battery_capacity):\n",
    "        self.battery_capacity = battery_capacity\n",
    "    def display_battery_info(self):\n",
    "        print(f\"Battery Capacity: {self.battery_capacity}\")\n",
    "        \n",
    "class Car(Vehicle):\n",
    "    def __init__(self, make, model, year, fuel_type):\n",
    "        super().__init__(make, model, year)\n",
    "        self.fuel_type = fuel_type\n",
    "    def display_car_info(self):\n",
    "        print(f\"Make: {self.make}, Model: {self.model}, Year: {self.year}, Fuel Type: {self.fuel_type}\")\n",
    "\n",
    "class Bike(Vehicle):\n",
    "    def __init__(self, make, model, year, engine_type):\n",
    "        super().__init__(make, model, year)\n",
    "        self.engine_type = engine_type\n",
    "    def display_bike_info(self):\n",
    "        print(f\"Make: {self.make}, Model: {self.model}, Year: {self.year}, Engine type: {self.engine_type}\")\n",
    "\n",
    "class ElectricCar(Car, ElectricVehicle):\n",
    "    def __init__(self, make, model, year, fuel_type, battery_capacity):\n",
    "        Car.__init__(self, make, model, year, fuel_type)\n",
    "        ElectricVehicle.__init__(self, battery_capacity)\n",
    "    def display_elec_car_info(self):\n",
    "        print(f\"Make: {self.make}, Model: {self.model}, Year: {self.year}, Fuel Type: {self.fuel_type}, Battery capacity: {self.battery_capacity}\")\n",
    "\n",
    "class SportsBike(Bike):\n",
    "    def __init__(self, make, model, year, engine_type, max_speed):\n",
    "        super().__init__(make, model, year, engine_type)\n",
    "        self.max_speed = max_speed\n",
    "    def display_sp_bike_info(self):\n",
    "        print(f\"Make: {self.make}, Model: {self.model}, Year: {self.year}, Engine type: {self.engine_type}, Maximum speed: {self.max_speed}\")\n",
    "        \n",
    "        \n",
    "#car = Car(\"Toyota\", \"Camry\", 2020, \"Gasoline\")\n",
    "#car.display_car_info()\n",
    "\n",
    "bike = SportsBike(\"Ducati\", \"Panigale V4\", 2023, \"Testastretta\", 200)\n",
    "bike.display_bike_info()"
   ]
  },
  {
   "cell_type": "markdown",
   "id": "b9d4cdb7",
   "metadata": {},
   "source": [
    "### ------------------------------------------------------------------------------------------------------------------------------------------------------------------"
   ]
  },
  {
   "cell_type": "markdown",
   "id": "841a7a4d",
   "metadata": {},
   "source": [
    "## UDF: Arguments and Parameters"
   ]
  },
  {
   "cell_type": "markdown",
   "id": "7f366692",
   "metadata": {},
   "source": [
    "#### Q40. Give example of Positional arguments"
   ]
  },
  {
   "cell_type": "code",
   "execution_count": 110,
   "id": "cf5d8cae",
   "metadata": {},
   "outputs": [
    {
     "data": {
      "text/plain": [
       "124"
      ]
     },
     "execution_count": 110,
     "metadata": {},
     "output_type": "execute_result"
    }
   ],
   "source": [
    "def avg_n(*args):\n",
    "    return int(sum(args)/len(args))\n",
    "\n",
    "avg_n(21, 26, 31, 101, 106, 121, 126, 146, 151, 156, 196, 201, 231)"
   ]
  },
  {
   "cell_type": "markdown",
   "id": "c75345ca",
   "metadata": {},
   "source": [
    "#### Q41. Give example of Keyword arguments"
   ]
  },
  {
   "cell_type": "code",
   "execution_count": 153,
   "id": "c1813114",
   "metadata": {},
   "outputs": [
    {
     "data": {
      "text/plain": [
       "20.0"
      ]
     },
     "execution_count": 153,
     "metadata": {},
     "output_type": "execute_result"
    }
   ],
   "source": [
    "def avg_kn(**kwargs):  #kwargs\n",
    "    sum_z = sum(kwargs.values())\n",
    "    avg = sum_z/len(kwargs)\n",
    "    return avg\n",
    "\n",
    "avg_kn(a = 10,b = 20,c = 30)"
   ]
  },
  {
   "cell_type": "markdown",
   "id": "3a073b6b",
   "metadata": {},
   "source": [
    "#### Q42. Print student info with arguments"
   ]
  },
  {
   "cell_type": "code",
   "execution_count": 113,
   "id": "20414b41",
   "metadata": {},
   "outputs": [
    {
     "name": "stdout",
     "output_type": "stream",
     "text": [
      "Enter the nameJohn\n",
      "Enter the subjectScience\n",
      "Enter the age15\n",
      "Enter the marks78\n",
      "The name of the student is John and his/her favourite subject is Science. His age is 15 and he got 78 marks in his/her favourite subject\n"
     ]
    }
   ],
   "source": [
    "name = input(\"Enter the name\")\n",
    "subject = input(\"Enter the subject\")\n",
    "age = int(input('Enter the age'))\n",
    "marks = int(input(\"Enter the marks\"))\n",
    "def stu_info(n,s,a,m):\n",
    "    print(\"The name of the student is {} and his/her favourite subject is {}. His age is {} and he got {} marks in his/her favourite subject\".format(name,subject,age,marks))\n",
    "    \n",
    "stu_info(name,subject,age,marks)"
   ]
  },
  {
   "cell_type": "markdown",
   "id": "d9104057",
   "metadata": {},
   "source": [
    "### ------------------------------------------------------------------------------------------------------------------------------------------------------------------"
   ]
  },
  {
   "cell_type": "markdown",
   "id": "5639af27",
   "metadata": {},
   "source": [
    "## Patterns / Logical questions"
   ]
  },
  {
   "cell_type": "markdown",
   "id": "4f227906",
   "metadata": {},
   "source": [
    "#### Q43. How to create a half pyramid pattern?"
   ]
  },
  {
   "cell_type": "code",
   "execution_count": 121,
   "id": "2b222492",
   "metadata": {},
   "outputs": [
    {
     "name": "stdout",
     "output_type": "stream",
     "text": [
      "* \n",
      "* * \n",
      "* * * \n",
      "* * * * \n",
      "* * * * * \n"
     ]
    }
   ],
   "source": [
    "num = 5\n",
    "for i in range(0, num):\n",
    "    for j in range(0, i + 1):\n",
    "        print(\"*\", end=' ')\n",
    "    print()"
   ]
  },
  {
   "cell_type": "markdown",
   "id": "d6ebe880",
   "metadata": {},
   "source": [
    "#### Q44. How to create a reverse half pyramid pattern?"
   ]
  },
  {
   "cell_type": "code",
   "execution_count": 126,
   "id": "600d5d72",
   "metadata": {},
   "outputs": [
    {
     "name": "stdout",
     "output_type": "stream",
     "text": [
      "    * \n",
      "   * * \n",
      "  * * * \n",
      " * * * * \n",
      "* * * * * \n"
     ]
    }
   ],
   "source": [
    "num = 5\n",
    "for i in range(0, num):\n",
    "    for j in range(0, num - i - 1):\n",
    "        print(end=\" \")\n",
    "    for j in range(0, i + 1):\n",
    "        print(\"*\", end=\" \")\n",
    "    print()"
   ]
  },
  {
   "cell_type": "markdown",
   "id": "7a5b22b6",
   "metadata": {},
   "source": [
    "#### Q45. How to create a diamond pattern?"
   ]
  },
  {
   "cell_type": "code",
   "execution_count": 122,
   "id": "d21a2435",
   "metadata": {},
   "outputs": [
    {
     "name": "stdout",
     "output_type": "stream",
     "text": [
      "    * \n",
      "   * * \n",
      "  * * * \n",
      " * * * * \n",
      "* * * * * \n",
      " * * * * \n",
      "  * * * \n",
      "   * * \n",
      "    * \n",
      "     \n"
     ]
    }
   ],
   "source": [
    "num = 5\n",
    "for i in range(0, num):\n",
    "    for j in range(0, num - i - 1):\n",
    "        print(end=\" \")\n",
    "    for j in range(0, i + 1):\n",
    "        print(\"*\", end=\" \")\n",
    "    print()\n",
    "for i in range(num, 0, -1):\n",
    "    for j in range(0, num - i + 1):\n",
    "        print(end=\" \")\n",
    "    for j in range(0, i - 1):\n",
    "        print(\"*\", end=\" \")\n",
    "    print()"
   ]
  },
  {
   "cell_type": "markdown",
   "id": "948c0735",
   "metadata": {},
   "source": [
    "#### Q46. Check whether input number is prime number or not"
   ]
  },
  {
   "cell_type": "code",
   "execution_count": 127,
   "id": "073bf7df",
   "metadata": {},
   "outputs": [
    {
     "name": "stdout",
     "output_type": "stream",
     "text": [
      "Enter a number to check if it is prime or not: 34\n",
      "34 is not a prime number\n"
     ]
    }
   ],
   "source": [
    "a = int(input(\"Enter a number to check if it is prime or not: \"))\n",
    "factors = 0\n",
    "for i in range(1,a+1):\n",
    "    if a%i == 0:\n",
    "        factors = factors + 1  \n",
    "if factors == 2:\n",
    "    print(a,\"is a prime number\")\n",
    "else:\n",
    "    print(a,\"is not a prime number\")"
   ]
  },
  {
   "cell_type": "markdown",
   "id": "cd1b2f46",
   "metadata": {},
   "source": [
    "#### Q47. Check how many prime and composite numbers are there from 1 to 100"
   ]
  },
  {
   "cell_type": "code",
   "execution_count": 128,
   "id": "ead6912d",
   "metadata": {},
   "outputs": [
    {
     "name": "stdout",
     "output_type": "stream",
     "text": [
      "There are 25 prime numbers and 74 composite numbers from 1 to 100\n"
     ]
    }
   ],
   "source": [
    "count_prime = 0\n",
    "count_composite = 0\n",
    "\n",
    "for i in range(2,101):\n",
    "    factors = 0\n",
    "    \n",
    "    for j in range(1,i+1):\n",
    "        if i%j == 0:\n",
    "            factors = factors + 1\n",
    "            \n",
    "    if factors == 2:\n",
    "        count_prime = count_prime + 1\n",
    "    else:\n",
    "        count_composite = count_composite + 1\n",
    "        \n",
    "print(\"There are\", count_prime, \"prime numbers and\", count_composite, \"composite numbers from 1 to 100\")"
   ]
  },
  {
   "cell_type": "markdown",
   "id": "3abbdf59",
   "metadata": {},
   "source": [
    "#### Q48. Check if the given string is palindrome or not"
   ]
  },
  {
   "cell_type": "code",
   "execution_count": 132,
   "id": "a57763a5",
   "metadata": {},
   "outputs": [
    {
     "name": "stdout",
     "output_type": "stream",
     "text": [
      "It is a palindrome\n"
     ]
    }
   ],
   "source": [
    "g = 'nitin'\n",
    "h = len(g)-1\n",
    "\n",
    "i = 0\n",
    "for i in range(0,h):\n",
    "    if g[i] != g[h-i]:\n",
    "        print(\"It is not a palindrome\")\n",
    "        break\n",
    "else:\n",
    "    print(\"It is a palindrome\")"
   ]
  },
  {
   "cell_type": "markdown",
   "id": "07f7d84a",
   "metadata": {},
   "source": [
    "#### Q49. Take user input name and check if it is present in the given list"
   ]
  },
  {
   "cell_type": "code",
   "execution_count": 140,
   "id": "1c21cc19",
   "metadata": {},
   "outputs": [
    {
     "name": "stdout",
     "output_type": "stream",
     "text": [
      "Enter a name: Pam\n",
      "Name is not present in the list.\n"
     ]
    }
   ],
   "source": [
    "names = ['John', 'Disha', 'Sam', 'Gaju', 'Parth', 'Tom', 'Alice']\n",
    "\n",
    "name = input(\"Enter a name: \")\n",
    "\n",
    "if name in names:\n",
    "    print(\"Name is present in the list.\")\n",
    "else:\n",
    "    print(\"Name is not present in the list.\")"
   ]
  },
  {
   "cell_type": "markdown",
   "id": "7a7d3a63",
   "metadata": {},
   "source": [
    "#### Q50. Create a UDF to get a password from the user.That password should contain: one special character, one alphabet upper case, one alphabet lower case, one digit. The length of the password should not be more than 4."
   ]
  },
  {
   "cell_type": "code",
   "execution_count": 135,
   "id": "6376158d",
   "metadata": {},
   "outputs": [
    {
     "name": "stdout",
     "output_type": "stream",
     "text": [
      "Enter any password: rA$2\n",
      "Password matched...Welcome!!!\n"
     ]
    }
   ],
   "source": [
    "password = input(\"Enter any password: \")\n",
    "\n",
    "def my_password(p):\n",
    "    if len(p) > 4 or len(p) < 4:\n",
    "        return False\n",
    "    \n",
    "    lowercase = any(i.islower() for i in p)\n",
    "    uppercase = any(i.isupper() for i in p)\n",
    "    digit = any(i.isdigit() for i in p)\n",
    "    special = any(i in '!@#$%&*' for i in p)\n",
    "    return lowercase and digit and uppercase and special\n",
    "\n",
    "if my_password(password):\n",
    "    print(\"Password matched...Welcome!!!\")\n",
    "else:\n",
    "    print(\"Password does not match.\")"
   ]
  },
  {
   "cell_type": "markdown",
   "id": "697e2c6e",
   "metadata": {},
   "source": [
    "### ------------------------------------------------------------------------------------------------------------------------------------------------------------------"
   ]
  }
 ],
 "metadata": {
  "kernelspec": {
   "display_name": "Python 3 (ipykernel)",
   "language": "python",
   "name": "python3"
  },
  "language_info": {
   "codemirror_mode": {
    "name": "ipython",
    "version": 3
   },
   "file_extension": ".py",
   "mimetype": "text/x-python",
   "name": "python",
   "nbconvert_exporter": "python",
   "pygments_lexer": "ipython3",
   "version": "3.11.5"
  }
 },
 "nbformat": 4,
 "nbformat_minor": 5
}
